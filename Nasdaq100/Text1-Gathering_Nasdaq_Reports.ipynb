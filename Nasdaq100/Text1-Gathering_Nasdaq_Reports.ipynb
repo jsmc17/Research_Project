{
 "cells": [
  {
   "cell_type": "code",
   "execution_count": 1,
   "metadata": {},
   "outputs": [],
   "source": [
    "import pandas as pd"
   ]
  },
  {
   "cell_type": "code",
   "execution_count": 8,
   "metadata": {},
   "outputs": [
    {
     "data": {
      "text/html": [
       "<div>\n",
       "<style scoped>\n",
       "    .dataframe tbody tr th:only-of-type {\n",
       "        vertical-align: middle;\n",
       "    }\n",
       "\n",
       "    .dataframe tbody tr th {\n",
       "        vertical-align: top;\n",
       "    }\n",
       "\n",
       "    .dataframe thead th {\n",
       "        text-align: right;\n",
       "    }\n",
       "</style>\n",
       "<table border=\"1\" class=\"dataframe\">\n",
       "  <thead>\n",
       "    <tr style=\"text-align: right;\">\n",
       "      <th></th>\n",
       "      <th>gvkey</th>\n",
       "      <th>datadate</th>\n",
       "      <th>fyear</th>\n",
       "      <th>indfmt</th>\n",
       "      <th>consol</th>\n",
       "      <th>popsrc</th>\n",
       "      <th>datafmt</th>\n",
       "      <th>tic</th>\n",
       "      <th>conm</th>\n",
       "      <th>curcd</th>\n",
       "      <th>cik</th>\n",
       "      <th>costat</th>\n",
       "    </tr>\n",
       "  </thead>\n",
       "  <tbody>\n",
       "    <tr>\n",
       "      <th>0</th>\n",
       "      <td>1161</td>\n",
       "      <td>20201231</td>\n",
       "      <td>2020</td>\n",
       "      <td>INDL</td>\n",
       "      <td>C</td>\n",
       "      <td>D</td>\n",
       "      <td>STD</td>\n",
       "      <td>AMD</td>\n",
       "      <td>ADVANCED MICRO DEVICES</td>\n",
       "      <td>USD</td>\n",
       "      <td>2488</td>\n",
       "      <td>A</td>\n",
       "    </tr>\n",
       "    <tr>\n",
       "      <th>1</th>\n",
       "      <td>1327</td>\n",
       "      <td>20200930</td>\n",
       "      <td>2020</td>\n",
       "      <td>INDL</td>\n",
       "      <td>C</td>\n",
       "      <td>D</td>\n",
       "      <td>STD</td>\n",
       "      <td>SWKS</td>\n",
       "      <td>SKYWORKS SOLUTIONS INC</td>\n",
       "      <td>USD</td>\n",
       "      <td>4127</td>\n",
       "      <td>A</td>\n",
       "    </tr>\n",
       "    <tr>\n",
       "      <th>2</th>\n",
       "      <td>1440</td>\n",
       "      <td>20201231</td>\n",
       "      <td>2020</td>\n",
       "      <td>INDL</td>\n",
       "      <td>C</td>\n",
       "      <td>D</td>\n",
       "      <td>STD</td>\n",
       "      <td>AEP</td>\n",
       "      <td>AMERICAN ELECTRIC POWER CO</td>\n",
       "      <td>USD</td>\n",
       "      <td>4904</td>\n",
       "      <td>A</td>\n",
       "    </tr>\n",
       "    <tr>\n",
       "      <th>3</th>\n",
       "      <td>1602</td>\n",
       "      <td>20201231</td>\n",
       "      <td>2020</td>\n",
       "      <td>INDL</td>\n",
       "      <td>C</td>\n",
       "      <td>D</td>\n",
       "      <td>STD</td>\n",
       "      <td>AMGN</td>\n",
       "      <td>AMGEN INC</td>\n",
       "      <td>USD</td>\n",
       "      <td>318154</td>\n",
       "      <td>A</td>\n",
       "    </tr>\n",
       "    <tr>\n",
       "      <th>4</th>\n",
       "      <td>1632</td>\n",
       "      <td>20201031</td>\n",
       "      <td>2020</td>\n",
       "      <td>INDL</td>\n",
       "      <td>C</td>\n",
       "      <td>D</td>\n",
       "      <td>STD</td>\n",
       "      <td>ADI</td>\n",
       "      <td>ANALOG DEVICES</td>\n",
       "      <td>USD</td>\n",
       "      <td>6281</td>\n",
       "      <td>A</td>\n",
       "    </tr>\n",
       "    <tr>\n",
       "      <th>...</th>\n",
       "      <td>...</td>\n",
       "      <td>...</td>\n",
       "      <td>...</td>\n",
       "      <td>...</td>\n",
       "      <td>...</td>\n",
       "      <td>...</td>\n",
       "      <td>...</td>\n",
       "      <td>...</td>\n",
       "      <td>...</td>\n",
       "      <td>...</td>\n",
       "      <td>...</td>\n",
       "      <td>...</td>\n",
       "    </tr>\n",
       "    <tr>\n",
       "      <th>95</th>\n",
       "      <td>180405</td>\n",
       "      <td>20201231</td>\n",
       "      <td>2020</td>\n",
       "      <td>INDL</td>\n",
       "      <td>C</td>\n",
       "      <td>D</td>\n",
       "      <td>STD</td>\n",
       "      <td>ATVI</td>\n",
       "      <td>ACTIVISION BLIZZARD INC</td>\n",
       "      <td>USD</td>\n",
       "      <td>718877</td>\n",
       "      <td>A</td>\n",
       "    </tr>\n",
       "    <tr>\n",
       "      <th>96</th>\n",
       "      <td>180652</td>\n",
       "      <td>20201231</td>\n",
       "      <td>2020</td>\n",
       "      <td>INDL</td>\n",
       "      <td>C</td>\n",
       "      <td>D</td>\n",
       "      <td>STD</td>\n",
       "      <td>VRSK</td>\n",
       "      <td>VERISK ANALYTICS INC</td>\n",
       "      <td>USD</td>\n",
       "      <td>1442145</td>\n",
       "      <td>A</td>\n",
       "    </tr>\n",
       "    <tr>\n",
       "      <th>97</th>\n",
       "      <td>180711</td>\n",
       "      <td>20201031</td>\n",
       "      <td>2020</td>\n",
       "      <td>INDL</td>\n",
       "      <td>C</td>\n",
       "      <td>D</td>\n",
       "      <td>STD</td>\n",
       "      <td>AVGO</td>\n",
       "      <td>BROADCOM INC</td>\n",
       "      <td>USD</td>\n",
       "      <td>1730168</td>\n",
       "      <td>A</td>\n",
       "    </tr>\n",
       "    <tr>\n",
       "      <th>98</th>\n",
       "      <td>184725</td>\n",
       "      <td>20201231</td>\n",
       "      <td>2020</td>\n",
       "      <td>INDL</td>\n",
       "      <td>C</td>\n",
       "      <td>D</td>\n",
       "      <td>STD</td>\n",
       "      <td>NXPI</td>\n",
       "      <td>NXP SEMICONDUCTORS NV</td>\n",
       "      <td>USD</td>\n",
       "      <td>1413447</td>\n",
       "      <td>A</td>\n",
       "    </tr>\n",
       "    <tr>\n",
       "      <th>99</th>\n",
       "      <td>184996</td>\n",
       "      <td>20201231</td>\n",
       "      <td>2020</td>\n",
       "      <td>INDL</td>\n",
       "      <td>C</td>\n",
       "      <td>D</td>\n",
       "      <td>STD</td>\n",
       "      <td>TSLA</td>\n",
       "      <td>TESLA INC</td>\n",
       "      <td>USD</td>\n",
       "      <td>1318605</td>\n",
       "      <td>A</td>\n",
       "    </tr>\n",
       "  </tbody>\n",
       "</table>\n",
       "<p>100 rows × 12 columns</p>\n",
       "</div>"
      ],
      "text/plain": [
       "     gvkey  datadate  fyear indfmt consol popsrc datafmt   tic  \\\n",
       "0     1161  20201231   2020   INDL      C      D     STD   AMD   \n",
       "1     1327  20200930   2020   INDL      C      D     STD  SWKS   \n",
       "2     1440  20201231   2020   INDL      C      D     STD   AEP   \n",
       "3     1602  20201231   2020   INDL      C      D     STD  AMGN   \n",
       "4     1632  20201031   2020   INDL      C      D     STD   ADI   \n",
       "..     ...       ...    ...    ...    ...    ...     ...   ...   \n",
       "95  180405  20201231   2020   INDL      C      D     STD  ATVI   \n",
       "96  180652  20201231   2020   INDL      C      D     STD  VRSK   \n",
       "97  180711  20201031   2020   INDL      C      D     STD  AVGO   \n",
       "98  184725  20201231   2020   INDL      C      D     STD  NXPI   \n",
       "99  184996  20201231   2020   INDL      C      D     STD  TSLA   \n",
       "\n",
       "                          conm curcd      cik costat  \n",
       "0       ADVANCED MICRO DEVICES   USD     2488      A  \n",
       "1       SKYWORKS SOLUTIONS INC   USD     4127      A  \n",
       "2   AMERICAN ELECTRIC POWER CO   USD     4904      A  \n",
       "3                    AMGEN INC   USD   318154      A  \n",
       "4               ANALOG DEVICES   USD     6281      A  \n",
       "..                         ...   ...      ...    ...  \n",
       "95     ACTIVISION BLIZZARD INC   USD   718877      A  \n",
       "96        VERISK ANALYTICS INC   USD  1442145      A  \n",
       "97                BROADCOM INC   USD  1730168      A  \n",
       "98       NXP SEMICONDUCTORS NV   USD  1413447      A  \n",
       "99                   TESLA INC   USD  1318605      A  \n",
       "\n",
       "[100 rows x 12 columns]"
      ]
     },
     "execution_count": 8,
     "metadata": {},
     "output_type": "execute_result"
    }
   ],
   "source": [
    "nas = pd.read_csv('WRDS output - nasdaq companies info.csv')\n",
    "nas"
   ]
  },
  {
   "cell_type": "code",
   "execution_count": 9,
   "metadata": {},
   "outputs": [
    {
     "data": {
      "text/plain": [
       "0        2488\n",
       "1        4127\n",
       "2        4904\n",
       "3      318154\n",
       "4        6281\n",
       "       ...   \n",
       "95     718877\n",
       "96    1442145\n",
       "97    1730168\n",
       "98    1413447\n",
       "99    1318605\n",
       "Name: cik, Length: 100, dtype: int64"
      ]
     },
     "execution_count": 9,
     "metadata": {},
     "output_type": "execute_result"
    }
   ],
   "source": [
    "# cik codes to link to annual report file names\n",
    "nas.cik"
   ]
  },
  {
   "cell_type": "markdown",
   "metadata": {},
   "source": [
    "# Extracting File From Zipped Folder\n",
    "\n",
    "Good SO link - https://stackoverflow.com/questions/8844781/get-file-list-of-files-contained-in-a-zip-file\n"
   ]
  },
  {
   "cell_type": "code",
   "execution_count": 13,
   "metadata": {},
   "outputs": [
    {
     "data": {
      "text/plain": [
       "<zipfile.ZipFile filename='../Data/Text/10-X_C_2016-2018.zip' mode='r'>"
      ]
     },
     "execution_count": 13,
     "metadata": {},
     "output_type": "execute_result"
    }
   ],
   "source": [
    "import zipfile\n",
    "\n",
    "# zip file handler  \n",
    "zip = zipfile.ZipFile('../Data/Text/10-X_C_2016-2018.zip')\n",
    "zip"
   ]
  },
  {
   "cell_type": "code",
   "execution_count": 15,
   "metadata": {},
   "outputs": [
    {
     "data": {
      "text/plain": [
       "['2016/',\n",
       " '2016/QTR1/',\n",
       " '2016/QTR1/20160104_10-K-A_edgar_data_1576724_0001165527-16-000622_1.txt',\n",
       " '2016/QTR1/20160104_10-K_edgar_data_718924_0001437749-16-023002_1.txt',\n",
       " '2016/QTR1/20160104_10-K_edgar_data_763950_0001078782-16-002107_1.txt',\n",
       " '2016/QTR1/20160104_10-Q-A_edgar_data_1311735_0001165527-16-000621_1.txt',\n",
       " '2016/QTR1/20160104_10-Q_edgar_data_763950_0001078782-16-002110_1.txt',\n",
       " '2016/QTR1/20160104_10-Q_edgar_data_763950_0001078782-16-002112_2.txt',\n",
       " '2016/QTR1/20160104_10-Q_edgar_data_763950_0001078782-16-002115_3.txt',\n",
       " '2016/QTR1/20160105_10-K-A_edgar_data_1133798_0001571049-16-010505_1.txt']"
      ]
     },
     "execution_count": 15,
     "metadata": {},
     "output_type": "execute_result"
    }
   ],
   "source": [
    "# list available files in the container\n",
    "files =  zip.namelist()\n",
    "files[:10]"
   ]
  },
  {
   "cell_type": "code",
   "execution_count": 18,
   "metadata": {},
   "outputs": [
    {
     "data": {
      "text/plain": [
       "87074"
      ]
     },
     "execution_count": 18,
     "metadata": {},
     "output_type": "execute_result"
    }
   ],
   "source": [
    "#87000 files in folder\n",
    "len(files)"
   ]
  },
  {
   "cell_type": "markdown",
   "metadata": {},
   "source": [
    "Extracting files for one company:"
   ]
  },
  {
   "cell_type": "code",
   "execution_count": 19,
   "metadata": {},
   "outputs": [
    {
     "data": {
      "text/plain": [
       "['2016/QTR1/20160104_10-K-A_edgar_data_1576724_0001165527-16-000622_1.txt',\n",
       " '2016/QTR3/20160708_10-K_edgar_data_1576724_0001165527-16-000821_1.txt',\n",
       " '2017/QTR3/20170714_10-K_edgar_data_1576724_0001663577-17-000218_1.txt',\n",
       " '2018/QTR3/20180802_10-K_edgar_data_1576724_0001663577-18-000342_1.txt']"
      ]
     },
     "execution_count": 19,
     "metadata": {},
     "output_type": "execute_result"
    }
   ],
   "source": [
    "# data for particular company\n",
    "\n",
    "comp = [file for file in files if '_1576724_' in file and '10-K' in file]\n",
    "# comp = [file for file in files if '_1737806_' in file]\n",
    "comp"
   ]
  },
  {
   "cell_type": "code",
   "execution_count": 24,
   "metadata": {},
   "outputs": [
    {
     "data": {
      "text/plain": [
       "b'rence to\\r\\nour disclosure controls and procedures being effective as of March 31, 2015 in\\r\\nPart II, Item 9A. Controls and Procedures, \"Disclosure Controls and Procedures,\"\\r\\nof the Original Filing. Except as described above, no other changes have been\\r\\nmade to the Original Filing and Amendment No. 1 to Form 10-K (\"Amendment No.\\r\\n1\"), filed on December 22, 2015. This Amendment does not modify, amend, or\\r\\nupdate in any way any of the financial or other information contained in the\\r\\nOriginal Filing and Amendment No. 1. This Amendment does not reflect events that\\r\\nmay have occurred subsequent to the filing dates of the Original Filing.\\r\\n \\r\\n                         ZLATO INC. - TABLE OF CONTENTS\\r\\n\\r\\n          PART I\\r\\n\\r\\nITEM 1.   Business                                                            2\\r\\nITEM 1A.  Risk Factors                                                        9\\r\\nITEM 1B.  Unresolved Staff Comments                                          10\\r\\nITEM 2.   Properties                                                         10\\r\\nITEM 3.   Legal Proceedings                                                  10\\r\\nITEM 4.   Mine Safety Disclosures                                            10\\r\\n\\r\\n          PART II\\r\\n\\r\\nITEM 5.   Market for Registrant\\'s Common Equity, Related Stockholder\\r\\n          Matters and Issuer Purchases of Equity Securities                  10\\r\\nITEM 6.   Selected Financial Data                                            11\\r\\nITEM 7.   Management\\'s Discussion and Analysis of Financial Condition\\r\\n          and Results of Operations                                          11\\r\\nITEM 7A.  Quantitative and Qualitative Disclosures About Market Risk         14\\r\\nITEM 8.   Financial Statements and Supplementary Data                        15\\r\\nITEM 9.   Changes In and Disagreements with Accountants on Accounting\\r\\n          and Financial Disclosure                                           26\\r\\nITEM 9A.  Controls and Procedures                                       '"
      ]
     },
     "execution_count": 24,
     "metadata": {},
     "output_type": "execute_result"
    }
   ],
   "source": [
    "f = zip.open(comp[0])\n",
    "\n",
    "# save the extraced file \n",
    "content = f.read()\n",
    "content[6000:8000]\n",
    "# f = open('file_inside_zip.extracted.txt', 'wb')\n",
    "# f.write(content)\n",
    "# f.close()"
   ]
  },
  {
   "cell_type": "code",
   "execution_count": null,
   "metadata": {},
   "outputs": [],
   "source": []
  },
  {
   "cell_type": "markdown",
   "metadata": {},
   "source": [
    "# Loop for Nasdaq 100 companies:"
   ]
  },
  {
   "cell_type": "code",
   "execution_count": 25,
   "metadata": {},
   "outputs": [
    {
     "data": {
      "text/plain": [
       "([2488, 4127, 4904, 318154, 6281], 100)"
      ]
     },
     "execution_count": 25,
     "metadata": {},
     "output_type": "execute_result"
    }
   ],
   "source": [
    "ciks = list(nas.cik)\n",
    "ciks[:5], len(ciks)"
   ]
  },
  {
   "cell_type": "code",
   "execution_count": 26,
   "metadata": {},
   "outputs": [],
   "source": [
    "# Loop to extract file names matching cik codes of nasdaq 100 companies\n",
    "\n",
    "all_files = []\n",
    "files_dict = {}\n",
    "\n",
    "for cik in ciks:\n",
    "    cik_string = f'_{str(cik)}_'\n",
    "    tmp = [file for file in files if cik_string in file and '10-K' in file]\n",
    "    files_dict[cik_string] = tmp\n",
    "    all_files += tmp"
   ]
  },
  {
   "cell_type": "code",
   "execution_count": 27,
   "metadata": {},
   "outputs": [
    {
     "data": {
      "text/plain": [
       "(272, 100)"
      ]
     },
     "execution_count": 27,
     "metadata": {},
     "output_type": "execute_result"
    }
   ],
   "source": [
    "len(all_files), len(files_dict)"
   ]
  },
  {
   "cell_type": "code",
   "execution_count": 28,
   "metadata": {},
   "outputs": [
    {
     "data": {
      "text/plain": [
       "['2016/QTR1/20160218_10-K_edgar_data_2488_0000002488-16-000111_1.txt',\n",
       " '2017/QTR1/20170221_10-K_edgar_data_2488_0000002488-17-000043_1.txt',\n",
       " '2018/QTR1/20180227_10-K_edgar_data_2488_0000002488-18-000042_1.txt',\n",
       " '2016/QTR1/20160201_10-K-A_edgar_data_4127_0000004127-16-000042_1.txt',\n",
       " '2016/QTR4/20161122_10-K_edgar_data_4127_0000004127-16-000068_1.txt']"
      ]
     },
     "execution_count": 28,
     "metadata": {},
     "output_type": "execute_result"
    }
   ],
   "source": [
    "all_files[:5]\n",
    "# list of matching file names"
   ]
  },
  {
   "cell_type": "code",
   "execution_count": 51,
   "metadata": {},
   "outputs": [
    {
     "data": {
      "text/plain": [
       "14"
      ]
     },
     "execution_count": 51,
     "metadata": {},
     "output_type": "execute_result"
    }
   ],
   "source": [
    "list(files_dict.values()).count([])\n",
    "# 14 companies where we cannot find reports"
   ]
  },
  {
   "cell_type": "code",
   "execution_count": null,
   "metadata": {},
   "outputs": [],
   "source": []
  },
  {
   "cell_type": "code",
   "execution_count": 53,
   "metadata": {},
   "outputs": [],
   "source": [
    "# Loop to write files to new folder\n",
    "\n",
    "for i, file in enumerate(all_files):\n",
    "    f = zip.open(all_files[i])\n",
    "\n",
    "    # save the extraced file \n",
    "    content = f.read()\n",
    "    \n",
    "    new_string = all_files[i].split('/')[-1]\n",
    "    \n",
    "    f = open(f'../Data/Text/Nasdaq100/{new_string}', 'wb')\n",
    "    f.write(content)\n",
    "    f.close()"
   ]
  },
  {
   "cell_type": "code",
   "execution_count": null,
   "metadata": {},
   "outputs": [],
   "source": []
  }
 ],
 "metadata": {
  "kernelspec": {
   "display_name": "Python 3",
   "language": "python",
   "name": "python3"
  },
  "language_info": {
   "codemirror_mode": {
    "name": "ipython",
    "version": 3
   },
   "file_extension": ".py",
   "mimetype": "text/x-python",
   "name": "python",
   "nbconvert_exporter": "python",
   "pygments_lexer": "ipython3",
   "version": "3.8.3"
  }
 },
 "nbformat": 4,
 "nbformat_minor": 4
}
